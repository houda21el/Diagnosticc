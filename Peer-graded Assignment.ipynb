{
  "nbformat": 4,
  "nbformat_minor": 0,
  "metadata": {
    "colab": {
      "provenance": [],
      "authorship_tag": "ABX9TyNIbFvh7qa/mCX6Ontgq4ho",
      "include_colab_link": true
    },
    "kernelspec": {
      "name": "python3",
      "display_name": "Python 3"
    },
    "language_info": {
      "name": "python"
    }
  },
  "cells": [
    {
      "cell_type": "markdown",
      "metadata": {
        "id": "view-in-github",
        "colab_type": "text"
      },
      "source": [
        "<a href=\"https://colab.research.google.com/github/houda21el/Diagnosticc/blob/main/Peer-graded%20Assignment.ipynb\" target=\"_parent\"><img src=\"https://colab.research.google.com/assets/colab-badge.svg\" alt=\"Open In Colab\"/></a>"
      ]
    },
    {
      "cell_type": "markdown",
      "source": [
        "# Peer-graded Assignment"
      ],
      "metadata": {
        "id": "gN-yOC6j0Dg6"
      }
    },
    {
      "cell_type": "markdown",
      "source": [
        "## Introduction\n",
        "Welcome to this notebook! In this notebook, we will explore various exercises related to data science concepts and basic arithmetic operations."
      ],
      "metadata": {
        "id": "LVJS_UQd0X63"
      }
    },
    {
      "cell_type": "markdown",
      "source": [
        "## Data Science Languages\n",
        "\n",
        "\n",
        "*   Python\n",
        "*   R\n",
        "*   SQL\n"
      ],
      "metadata": {
        "id": "lewCh-GP0g2t"
      }
    },
    {
      "cell_type": "markdown",
      "source": [
        "## Data Science Libraries\n",
        "\n",
        "\n",
        "*   Panda\n",
        "*   NumPy\n",
        "*   Scikit-learn"
      ],
      "metadata": {
        "id": "e67Z4glE02ZT"
      }
    },
    {
      "cell_type": "markdown",
      "source": [
        "## Data Science Tools\n",
        "|  Tool      | Description           |\n",
        "|------------|-----------------------|\n",
        "| Jupyter    | Interactive computing |\n",
        "| TensorFlow | Machine learning      |\n",
        "| Tableau    | Data visualization    |\n",
        "\n"
      ],
      "metadata": {
        "id": "JOCMZscz1lWP"
      }
    },
    {
      "cell_type": "markdown",
      "source": [
        "## arithmetic expression examples\n",
        " Let's explore some basic arithmetic operations in this section."
      ],
      "metadata": {
        "id": "HDDQ-NRz2DrB"
      }
    },
    {
      "cell_type": "markdown",
      "source": [
        "Exercice 8: add numbers"
      ],
      "metadata": {
        "id": "oSmiUzFR2K_B"
      }
    },
    {
      "cell_type": "code",
      "source": [
        "# Multiply and add numbers\n",
        "result = (5 * 3) + 10\n",
        "print(result)\n"
      ],
      "metadata": {
        "colab": {
          "base_uri": "https://localhost:8080/"
        },
        "id": "5YEuCBde2Xzl",
        "outputId": "318ffc43-083a-44b9-8623-76051300b9a9"
      },
      "execution_count": 1,
      "outputs": [
        {
          "output_type": "stream",
          "name": "stdout",
          "text": [
            "25\n"
          ]
        }
      ]
    },
    {
      "cell_type": "markdown",
      "source": [
        "Exercice 9: convert minutes to hours"
      ],
      "metadata": {
        "id": "s4bwotAO2bjt"
      }
    },
    {
      "cell_type": "code",
      "source": [
        "# Convert minutes to hours\n",
        "minutes = 120\n",
        "hours = minutes / 60\n",
        "print(hours)"
      ],
      "metadata": {
        "colab": {
          "base_uri": "https://localhost:8080/"
        },
        "id": "_87EjDIo28G9",
        "outputId": "ce66c117-79cf-4698-ed88-92e87e42a041"
      },
      "execution_count": 2,
      "outputs": [
        {
          "output_type": "stream",
          "name": "stdout",
          "text": [
            "2.0\n"
          ]
        }
      ]
    },
    {
      "cell_type": "markdown",
      "source": [
        "## Objectives\n",
        "\n",
        "\n",
        "*   Practice basic markdown formatting\n",
        "*   Perform arithmetic operations in Python\n",
        "* Explore data science tools and libraries\n",
        "\n"
      ],
      "metadata": {
        "id": "q4t_6c3O2hJP"
      }
    },
    {
      "cell_type": "markdown",
      "source": [
        "## Author\n",
        "Houda El Mohamadi"
      ],
      "metadata": {
        "id": "tucdQhus3FSP"
      }
    }
  ]
}